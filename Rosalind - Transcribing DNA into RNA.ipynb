{
    "cells": [
        {
            "cell_type": "code",
            "execution_count": 13,
            "metadata": {},
            "outputs": [],
            "source": "# The code was removed by Watson Studio for sharing."
        },
        {
            "cell_type": "code",
            "execution_count": 14,
            "metadata": {},
            "outputs": [],
            "source": "# Load file\ndata = pd.read_csv(streaming_body_1,header=None)"
        },
        {
            "cell_type": "code",
            "execution_count": 15,
            "metadata": {},
            "outputs": [],
            "source": "# Add column name\ndata.columns=['dna']"
        },
        {
            "cell_type": "code",
            "execution_count": 16,
            "metadata": {},
            "outputs": [
                {
                    "data": {
                        "text/plain": "0    GTTATCTATGAGAATCTGTGTTGACTAAAGCGTTAGGGCTGCTTAC...\nName: dna, dtype: object"
                    },
                    "execution_count": 16,
                    "metadata": {},
                    "output_type": "execute_result"
                }
            ],
            "source": "# print data\ndata['dna']"
        },
        {
            "cell_type": "code",
            "execution_count": 20,
            "metadata": {},
            "outputs": [],
            "source": "# Transcbribe DNA to RNA (T replace with U)\ndata['rna']=data['dna'].replace('T','U')\n"
        },
        {
            "cell_type": "code",
            "execution_count": 21,
            "metadata": {},
            "outputs": [
                {
                    "data": {
                        "text/plain": "0    GTTATCTATGAGAATCTGTGTTGACTAAAGCGTTAGGGCTGCTTAC...\nName: rna, dtype: object"
                    },
                    "execution_count": 21,
                    "metadata": {},
                    "output_type": "execute_result"
                }
            ],
            "source": "# print RNA\ndata['rna']"
        },
        {
            "cell_type": "code",
            "execution_count": 22,
            "metadata": {},
            "outputs": [
                {
                    "data": {
                        "text/html": "<div>\n<style scoped>\n    .dataframe tbody tr th:only-of-type {\n        vertical-align: middle;\n    }\n\n    .dataframe tbody tr th {\n        vertical-align: top;\n    }\n\n    .dataframe thead th {\n        text-align: right;\n    }\n</style>\n<table border=\"1\" class=\"dataframe\">\n  <thead>\n    <tr style=\"text-align: right;\">\n      <th></th>\n      <th>dna</th>\n      <th>rna</th>\n    </tr>\n  </thead>\n  <tbody>\n    <tr>\n      <th>0</th>\n      <td>GTTATCTATGAGAATCTGTGTTGACTAAAGCGTTAGGGCTGCTTAC...</td>\n      <td>GTTATCTATGAGAATCTGTGTTGACTAAAGCGTTAGGGCTGCTTAC...</td>\n    </tr>\n  </tbody>\n</table>\n</div>",
                        "text/plain": "                                                 dna  \\\n0  GTTATCTATGAGAATCTGTGTTGACTAAAGCGTTAGGGCTGCTTAC...   \n\n                                                 rna  \n0  GTTATCTATGAGAATCTGTGTTGACTAAAGCGTTAGGGCTGCTTAC...  "
                    },
                    "execution_count": 22,
                    "metadata": {},
                    "output_type": "execute_result"
                }
            ],
            "source": "data.head()"
        },
        {
            "cell_type": "code",
            "execution_count": null,
            "metadata": {},
            "outputs": [],
            "source": ""
        }
    ],
    "metadata": {
        "kernelspec": {
            "display_name": "Python 3.6",
            "language": "python",
            "name": "python3"
        },
        "language_info": {
            "codemirror_mode": {
                "name": "ipython",
                "version": 3
            },
            "file_extension": ".py",
            "mimetype": "text/x-python",
            "name": "python",
            "nbconvert_exporter": "python",
            "pygments_lexer": "ipython3",
            "version": "3.6.9"
        }
    },
    "nbformat": 4,
    "nbformat_minor": 1
}