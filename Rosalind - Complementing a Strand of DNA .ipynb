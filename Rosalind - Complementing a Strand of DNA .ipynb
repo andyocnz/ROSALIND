{
    "cells": [
        {
            "cell_type": "markdown",
            "metadata": {
                "collapsed": true
            },
            "source": "## Problem\nIn DNA strings, symbols 'A' and 'T' are complements of each other, as are 'C' and 'G'.\n\nThe reverse complement of a DNA string s is the string sc formed by reversing the symbols of s, then taking the complement of each symbol (e.g., the reverse complement of \"GTCA\" is \"TGAC\").\n\n#### Given: A DNA string s of length at most 1000 bp.\n\n#### Return: The reverse complement sc of s."
        },
        {
            "cell_type": "code",
            "execution_count": 1,
            "metadata": {},
            "outputs": [],
            "source": "# The code was removed by Watson Studio for sharing."
        },
        {
            "cell_type": "code",
            "execution_count": 2,
            "metadata": {},
            "outputs": [],
            "source": "# Load file\ndata = pd.read_csv(streaming_body_1,header=None)"
        },
        {
            "cell_type": "code",
            "execution_count": 3,
            "metadata": {},
            "outputs": [],
            "source": "# Add column name\ndata.columns=['dna']"
        },
        {
            "cell_type": "code",
            "execution_count": 4,
            "metadata": {},
            "outputs": [
                {
                    "data": {
                        "text/plain": "0    GCGGTACGTCGTCGGACGTAATCAGCCAGCCACTTCGTCACGCGCT...\nName: dna, dtype: object"
                    },
                    "execution_count": 4,
                    "metadata": {},
                    "output_type": "execute_result"
                }
            ],
            "source": "# print data\ndata['dna']"
        },
        {
            "cell_type": "code",
            "execution_count": 24,
            "metadata": {},
            "outputs": [],
            "source": "# Reverse DNA\ndata['revdna']=data['dna'][0][::-1]\n\n"
        },
        {
            "cell_type": "code",
            "execution_count": 25,
            "metadata": {},
            "outputs": [
                {
                    "data": {
                        "text/plain": "'GCACGGTAACCATTGCTAGTAGTCTTTGTCTTCAAACGAGGGAGGTACATGGACAATGGAGCGTTCGTCAGTGAGAAGGTTGGCCTCGCAAAGAGACTGCAAGCAATGAAAAGTCTAGGAGTAAGCCCCTTTGTAGATCTTTCCCCCGCTATGCAGGCATTATCAAACACGGCAGCTACTCCGCTCTCGACAGTTCGAGGGGTAGATCGTTCACACTGGCTTGTCCTAATAGTATCATCAGACCACCCCCAGCTGTATAGGAACTTCTCTGCCTGACTTCATGGGGACGGCTGTCAGTCCTCCAAGGTGGGAGCGTTTTGTACTCTATCGGTACACTTATTTTTTATTAAGTGTTTTAACCGGGCTAGGCGGACTAGTGCAGCCTCACTCATTGTTCAACCTTCCGAACTCATAGTCTTTTCGGTTGGAAGCCGTCCGGGTGCATCGGACCAGGCGAGTAGTTTATATTTGTATTCGCGGTCGCCTCCTTTGGAAATCGTGGATGTATTCACGCAACCCTTACTCAATCCCCGCATCATCACACACTAATATATCTCAGAAGGCGACGCGCGGAGCTTCAGGATGCCCACCGACTGATGCGCGAGTTGACGGTGGATGCCCCGGTGGAAGGAGGCCGTTAGCCCCCAGCCCTACTACGGCAACGGCGCAATGCTTGCGTGCGCCTGAGCGATATGTTTAGCACATCCGACGCGATCACACTAAAGGCATAGACGCCGCTCCATTAAATTTCAGTCTTATTTTCTTTTACCCGGACGAAAAGCTCTAAATCATGGTGTGAATAACTCGCGCACTGCTTCACCGACCGACTAATGCAGGCTGCTGCATGGCG'"
                    },
                    "execution_count": 25,
                    "metadata": {},
                    "output_type": "execute_result"
                }
            ],
            "source": "#check rev dna order\ndata['revdna'][0]"
        },
        {
            "cell_type": "code",
            "execution_count": 27,
            "metadata": {},
            "outputs": [],
            "source": "# define new as the reverse complement\nnew=\"\""
        },
        {
            "cell_type": "code",
            "execution_count": 28,
            "metadata": {},
            "outputs": [],
            "source": "for k in data['revdna'][0]:\n    if k=='A':\n        k='T'\n    elif k=='C':\n        k='G'\n    elif k=='T':\n        k='A'\n    elif k=='G':\n        k='C'\n    new += k\n    #print(k)"
        },
        {
            "cell_type": "code",
            "execution_count": 29,
            "metadata": {},
            "outputs": [
                {
                    "name": "stdout",
                    "output_type": "stream",
                    "text": "CGTGCCATTGGTAACGATCATCAGAAACAGAAGTTTGCTCCCTCCATGTACCTGTTACCTCGCAAGCAGTCACTCTTCCAACCGGAGCGTTTCTCTGACGTTCGTTACTTTTCAGATCCTCATTCGGGGAAACATCTAGAAAGGGGGCGATACGTCCGTAATAGTTTGTGCCGTCGATGAGGCGAGAGCTGTCAAGCTCCCCATCTAGCAAGTGTGACCGAACAGGATTATCATAGTAGTCTGGTGGGGGTCGACATATCCTTGAAGAGACGGACTGAAGTACCCCTGCCGACAGTCAGGAGGTTCCACCCTCGCAAAACATGAGATAGCCATGTGAATAAAAAATAATTCACAAAATTGGCCCGATCCGCCTGATCACGTCGGAGTGAGTAACAAGTTGGAAGGCTTGAGTATCAGAAAAGCCAACCTTCGGCAGGCCCACGTAGCCTGGTCCGCTCATCAAATATAAACATAAGCGCCAGCGGAGGAAACCTTTAGCACCTACATAAGTGCGTTGGGAATGAGTTAGGGGCGTAGTAGTGTGTGATTATATAGAGTCTTCCGCTGCGCGCCTCGAAGTCCTACGGGTGGCTGACTACGCGCTCAACTGCCACCTACGGGGCCACCTTCCTCCGGCAATCGGGGGTCGGGATGATGCCGTTGCCGCGTTACGAACGCACGCGGACTCGCTATACAAATCGTGTAGGCTGCGCTAGTGTGATTTCCGTATCTGCGGCGAGGTAATTTAAAGTCAGAATAAAAGAAAATGGGCCTGCTTTTCGAGATTTAGTACCACACTTATTGAGCGCGTGACGAAGTGGCTGGCTGATTACGTCCGACGACGTACCGC\n"
                }
            ],
            "source": "# show the reverse completement order of DNA\nprint(new)"
        },
        {
            "cell_type": "code",
            "execution_count": null,
            "metadata": {},
            "outputs": [],
            "source": ""
        }
    ],
    "metadata": {
        "kernelspec": {
            "display_name": "Python 3.6",
            "language": "python",
            "name": "python3"
        },
        "language_info": {
            "codemirror_mode": {
                "name": "ipython",
                "version": 3
            },
            "file_extension": ".py",
            "mimetype": "text/x-python",
            "name": "python",
            "nbconvert_exporter": "python",
            "pygments_lexer": "ipython3",
            "version": "3.6.9"
        }
    },
    "nbformat": 4,
    "nbformat_minor": 1
}